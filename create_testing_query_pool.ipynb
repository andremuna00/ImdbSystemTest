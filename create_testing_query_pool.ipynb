{
 "cells": [
  {
   "cell_type": "code",
   "execution_count": 1,
   "metadata": {},
   "outputs": [],
   "source": [
    "import polars as pl\n",
    "import numpy as np\n",
    "\n",
    "data_path=\"db_dump/uncompressed/\"\n",
    "title_ratings = pl.scan_csv(data_path+\"title.ratings.tsv\", quote_char=None, has_header=True, separator=\"\\t\", null_values=\"\\\\N\")\n",
    "title_basics = pl.scan_csv(data_path+\"title.basics.tsv\", quote_char=None, has_header=True, separator=\"\\t\", null_values=\"\\\\N\")\n",
    "\n",
    "tmp_title_ratings=title_ratings.sort(\"numVotes\", descending=True)\n",
    "tmp_title_ratings=tmp_title_ratings.with_columns(pl.col(\"numVotes\").cumsum().alias(\"votes_cumsum\"))"
   ]
  },
  {
   "cell_type": "code",
   "execution_count": 2,
   "metadata": {},
   "outputs": [],
   "source": [
    "max=tmp_title_ratings.select(pl.max(\"votes_cumsum\")).collect().to_numpy()\n",
    "max=max[0][0]"
   ]
  },
  {
   "cell_type": "code",
   "execution_count": 3,
   "metadata": {},
   "outputs": [],
   "source": [
    "tmp_title_ratings=tmp_title_ratings.collect()"
   ]
  },
  {
   "cell_type": "code",
   "execution_count": 4,
   "metadata": {},
   "outputs": [],
   "source": [
    "id_list=[]\n",
    "for i in range(10000):\n",
    "    random_num = np.random.randint(0, max)\n",
    "\n",
    "    # find the index of the row in which the random number fits in\n",
    "    index = tmp_title_ratings.select(pl.col(\"votes_cumsum\").search_sorted(random_num, side='right')).to_numpy()[0][0]\n",
    "    title_id = tmp_title_ratings.row(index)[0]\n",
    "    id_list.append(title_id)"
   ]
  },
  {
   "cell_type": "code",
   "execution_count": 5,
   "metadata": {},
   "outputs": [],
   "source": [
    "title_basics_list=[]\n",
    "for id in id_list:\n",
    "    tmp_dict=title_basics.select([pl.col(\"tconst\"), pl.col(\"primaryTitle\")]).filter(pl.col(\"tconst\")==id).first().collect().to_dict()\n",
    "    title_basics_list.append(tmp_dict[\"primaryTitle\"][0])"
   ]
  },
  {
   "cell_type": "code",
   "execution_count": 8,
   "metadata": {},
   "outputs": [],
   "source": [
    "import pandas as pd\n",
    "df=pd.DataFrame()\n",
    "df[\"tconst\"]=id_list\n",
    "df[\"primaryTitle\"]=title_basics_list\n",
    "df.to_csv(\"testing/testing_query_pool.csv\",header=False, sep=\";\", index=False)"
   ]
  }
 ],
 "metadata": {
  "kernelspec": {
   "display_name": "spas_proj",
   "language": "python",
   "name": "python3"
  },
  "language_info": {
   "codemirror_mode": {
    "name": "ipython",
    "version": 3
   },
   "file_extension": ".py",
   "mimetype": "text/x-python",
   "name": "python",
   "nbconvert_exporter": "python",
   "pygments_lexer": "ipython3",
   "version": "3.11.3"
  },
  "orig_nbformat": 4
 },
 "nbformat": 4,
 "nbformat_minor": 2
}
